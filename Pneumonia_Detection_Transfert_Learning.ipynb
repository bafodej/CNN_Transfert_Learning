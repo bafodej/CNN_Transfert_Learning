{
 "cells": [
  {
   "cell_type": "code",
   "execution_count": null,
   "id": "aede4606",
   "metadata": {
    "vscode": {
     "languageId": "plaintext"
    }
   },
   "outputs": [],
   "source": [
    "import os\n",
    "import numpy as np\n",
    "import tensorflow as tf\n",
    "from tensorflow.keras import layers, models\n",
    "import matplotlib.pyplot as plt\n",
    "import cv2\n",
    "\n",
    "np.set_printoptions(linewidth=np.inf)\n",
    "np.set_printoptions(edgeitems=30) "
   ]
  },
  {
   "cell_type": "code",
   "execution_count": null,
   "id": "4a563185",
   "metadata": {
    "vscode": {
     "languageId": "plaintext"
    }
   },
   "outputs": [],
   "source": [
    "\n",
    "\n",
    "img = cv2.imread('data/pets/test/cat/9999.jpg', cv2.IMREAD_GRAYSCALE)\n",
    "\n",
    "print(img)\n",
    "\n",
    "plt.imshow(img, cmap='gray')\n",
    "plt.axis('off')\n",
    "plt.title(\"Exemple d'image\")\n",
    "plt.show()\n",
    "\n",
    "# Inspection des métadonnées de l'image\n",
    "print(f\"Shape (dimensions)    : {img.shape}\")\n",
    "print(f\"Type des valeurs      : {img.dtype}\")"
   ]
  }
 ],
 "metadata": {
  "language_info": {
   "name": "python"
  }
 },
 "nbformat": 4,
 "nbformat_minor": 5
}
