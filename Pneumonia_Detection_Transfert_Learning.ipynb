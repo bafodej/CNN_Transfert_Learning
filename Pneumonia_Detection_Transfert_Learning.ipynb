{
 "cells": [
  {
   "cell_type": "code",
   "execution_count": 1,
   "id": "aede4606",
   "metadata": {},
   "outputs": [],
   "source": [
    "import os\n",
    "import numpy as np\n",
    "import tensorflow as tf\n",
    "from tensorflow.keras import layers, models\n",
    "import matplotlib.pyplot as plt\n",
    "import cv2\n",
    "\n",
    "np.set_printoptions(linewidth=np.inf)\n",
    "np.set_printoptions(edgeitems=30) "
   ]
  },
  {
   "cell_type": "code",
   "execution_count": 2,
   "id": "4a563185",
   "metadata": {},
   "outputs": [
    {
     "ename": "SyntaxError",
     "evalue": "(unicode error) 'unicodeescape' codec can't decode bytes in position 21-22: malformed \\N character escape (326396872.py, line 1)",
     "output_type": "error",
     "traceback": [
      "\u001b[1;36m  Cell \u001b[1;32mIn[2], line 1\u001b[1;36m\u001b[0m\n\u001b[1;33m    img = cv2.imread('\\data\\chest_xray\\test\\NORMAL\\IM-0009-0001.jpeg', cv2.IMREAD_GRAYSCALE)\u001b[0m\n\u001b[1;37m                                                                     ^\u001b[0m\n\u001b[1;31mSyntaxError\u001b[0m\u001b[1;31m:\u001b[0m (unicode error) 'unicodeescape' codec can't decode bytes in position 21-22: malformed \\N character escape\n"
     ]
    }
   ],
   "source": [
    "\n",
    "img = cv2.imread('\\data\\chest_xray\\test\\NORMAL\\IM-0009-0001.jpeg', cv2.IMREAD_GRAYSCALE)\n",
    "\n",
    "print(img)\n",
    "\n",
    "plt.imshow(img, cmap='gray')\n",
    "plt.axis('off')\n",
    "plt.title(\"Exemple d'image\")\n",
    "plt.show()\n",
    "\n",
    "# Inspection des métadonnées de l'image\n",
    "print(f\"Shape (dimensions)    : {img.shape}\")\n",
    "print(f\"Type des valeurs      : {img.dtype}\")"
   ]
  },
  {
   "cell_type": "markdown",
   "id": "ae8da5b4",
   "metadata": {},
   "source": [
    "## Exlploration des donées "
   ]
  },
  {
   "cell_type": "code",
   "execution_count": null,
   "id": "35b13bfd",
   "metadata": {},
   "outputs": [],
   "source": [
    "def explore_images(data_dir, img_read_type: int):\n",
    "    \"\"\"\n",
    "    Explore un répertoire d'images organisé par classe (sous-dossiers).\n",
    "\n",
    "    - Affiche la première image de chaque sous-dossier.\n",
    "    - Compte le nombre total d’images.\n",
    "    - Recueille les tailles uniques des images rencontrées.\n",
    "\n",
    "    Parameters\n",
    "    ----------\n",
    "    data_dir : str\n",
    "        Chemin du dossier contenant les sous-dossiers d’images.\n",
    "    img_read_type : int\n",
    "        Mode de lecture OpenCV (ex. cv2.IMREAD_COLOR ou cv2.IMREAD_GRAYSCALE).\n",
    "    \"\"\"\n",
    "    \n",
    "    unique_shapes = set()\n",
    "    displayed = set()\n",
    "    total_images = 0\n",
    "\n",
    "    for label_name in os.listdir(data_dir):\n",
    "        class_dir = os.path.join(data_dir, label_name)\n",
    "        if not os.path.isdir(class_dir):\n",
    "            continue\n",
    "\n",
    "        for filename in os.listdir(class_dir):\n",
    "            if filename.lower().endswith(('.jpg', '.jpeg', '.png')):\n",
    "                filepath = os.path.join(class_dir, filename)\n",
    "                img = cv2.imread(filepath, img_read_type)\n",
    "                if img is None:\n",
    "                    continue  # image illisible\n",
    "                unique_shapes.add(img.shape)\n",
    "                total_images += 1\n",
    "\n",
    "                # Afficher la première image de chaque dossier\n",
    "                if label_name not in displayed:\n",
    "                    displayed.add(label_name)\n",
    "                    plt.imshow(img if img_read_type == cv2.IMREAD_GRAYSCALE else cv2.cvtColor(img, cv2.COLOR_BGR2RGB))\n",
    "                    plt.title(f\"Exemple: {label_name}\")\n",
    "                    plt.axis('off')\n",
    "                    plt.show()\n",
    "\n",
    "    print(f\"\\nTotal d'images dans '{data_dir}' : {total_images}\")\n",
    "    print(f\"\\nTotal tailles d'images rencontrées : {len(unique_shapes)}\")\n",
    "\n",
    "\n",
    "explore_images(\"data/chest_ray/train\", cv2.IMREAD_COLOR)\n",
    "explore_images(\"data/chest_ray/test\", cv2.IMREAD_COLOR)"
   ]
  },
  {
   "cell_type": "markdown",
   "id": "e9dbd3fd",
   "metadata": {},
   "source": [
    "## Chargement des images "
   ]
  },
  {
   "cell_type": "code",
   "execution_count": null,
   "id": "3085e882",
   "metadata": {},
   "outputs": [],
   "source": [
    "def load_data(data_dir, img_read_type: int, target_size=(64, 64)):\n",
    "\n",
    "\n",
    "    X = []\n",
    "    y = []\n",
    "    label_map = {'benin': 0, 'malin': 1}\n",
    "\n",
    "    for label_name in ['benin', 'malin']:\n",
    "        class_dir = os.path.join(data_dir, label_name)\n",
    "        for filename in os.listdir(class_dir):\n",
    "            if filename.lower().endswith(('.jpg', '.jpeg', '.png')):\n",
    "                filepath = os.path.join(class_dir, filename)\n",
    "                img = cv2.imread(filepath, img_read_type)\n",
    "                if img is None:\n",
    "                    continue  # image illisible, on passe\n",
    "                img = cv2.resize(img, target_size)\n",
    "                X.append(img)\n",
    "                y.append(label_map[label_name])\n",
    "\n",
    "    X = np.array(X, dtype=np.float32)\n",
    "    y = np.array(y, dtype=np.float32)\n",
    "    return X, y\n",
    "\n",
    "\n",
    "# Chargement des images en niveau de gris\n",
    "X_train, y_train = load_data('data/chest_ray/train', cv2.IMREAD_GRAYSCALE)\n",
    "X_test, y_test = load_data('data/chest_ray/test', cv2.IMREAD_GRAYSCALE)"
   ]
  },
  {
   "cell_type": "markdown",
   "id": "32e07437",
   "metadata": {},
   "source": [
    "## Preprocessing"
   ]
  },
  {
   "cell_type": "code",
   "execution_count": null,
   "id": "6f6add6a",
   "metadata": {},
   "outputs": [],
   "source": [
    "\n",
    "X_train = X_train.astype(\"float32\")\n",
    "X_test = X_test.astype(\"float32\")\n",
    "\n",
    "X_train /= 255.0\n",
    "X_test /= 255.0\n",
    "\n",
    "X_train_reshape = X_train.reshape(X_train.shape[0], 64 * 64)\n",
    "X_test_reshape = X_test.reshape(X_test.shape[0], 64 * 64)"
   ]
  }
 ],
 "metadata": {
  "kernelspec": {
   "display_name": "pneumonia_detection_env",
   "language": "python",
   "name": "python3"
  },
  "language_info": {
   "codemirror_mode": {
    "name": "ipython",
    "version": 3
   },
   "file_extension": ".py",
   "mimetype": "text/x-python",
   "name": "python",
   "nbconvert_exporter": "python",
   "pygments_lexer": "ipython3",
   "version": "3.13.3"
  }
 },
 "nbformat": 4,
 "nbformat_minor": 5
}
